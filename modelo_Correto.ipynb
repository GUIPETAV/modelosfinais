{
  "cells": [
    {
      "cell_type": "code",
      "execution_count": null,
      "metadata": {
        "id": "giGRRZPRMO_x"
      },
      "outputs": [],
      "source": [
        "import pandas as pd\n",
        "from sklearn.model_selection import train_test_split\n",
        "from sklearn.model_selection import cross_val_score, StratifiedKFold\n",
        "import numpy as np\n",
        "\n"
      ]
    },
    {
      "cell_type": "markdown",
      "metadata": {
        "id": "Uq7sAKgDd5OC"
      },
      "source": [
        "## Dados Reais"
      ]
    },
    {
      "cell_type": "markdown",
      "metadata": {
        "id": "SNLbUIKoeHnP"
      },
      "source": [
        "### Manipulação dos dados"
      ]
    },
    {
      "cell_type": "code",
      "execution_count": null,
      "metadata": {
        "id": "KqRkh-bPMO_9"
      },
      "outputs": [],
      "source": [
        "# Dataset dados reais\n",
        "\n",
        "df1 = pd.read_csv('https://raw.githubusercontent.com/GUIPETAV/Exp_00/main/df1_trat.csv')# falha de subcarga\n",
        "df2 = pd.read_csv('https://raw.githubusercontent.com/GUIPETAV/Exp_00/main/df2_trat.csv') # sem falha de subcarga"
      ]
    },
    {
      "cell_type": "code",
      "execution_count": null,
      "metadata": {
        "colab": {
          "base_uri": "https://localhost:8080/"
        },
        "id": "g-iPwpVWMPAB",
        "outputId": "a6eed81b-98b9-4973-8e3a-1ccb47726b23"
      },
      "outputs": [
        {
          "name": "stdout",
          "output_type": "stream",
          "text": [
            "<class 'pandas.core.frame.DataFrame'>\n",
            "RangeIndex: 11688 entries, 0 to 11687\n",
            "Data columns (total 27 columns):\n",
            " #   Column                Non-Null Count  Dtype  \n",
            "---  ------                --------------  -----  \n",
            " 0   Datetime              11688 non-null  object \n",
            " 1   RTU_COMP_WATT         11688 non-null  float64\n",
            " 2   RTU_LA_COND_TEMP      11688 non-null  float64\n",
            " 3   RTU_MA_HUM            11688 non-null  float64\n",
            " 4   RTU_MA_TEMP           11688 non-null  float64\n",
            " 5   RTU_OA_HUM            11688 non-null  float64\n",
            " 6   RTU_OA_TEMP           11688 non-null  float64\n",
            " 7   RTU_RA_HUM            11688 non-null  float64\n",
            " 8   RTU_RA_TEMP           11688 non-null  float64\n",
            " 9   RTU_REFG_COND_TEMP_1  11688 non-null  float64\n",
            " 10  RTU_REFG_COND_TEMP_2  11688 non-null  float64\n",
            " 11  RTU_REFG_DISC_PRES_1  11688 non-null  float64\n",
            " 12  RTU_REFG_DISC_PRES_2  11688 non-null  float64\n",
            " 13  RTU_REFG_DISC_TEMP_1  11688 non-null  float64\n",
            " 14  RTU_REFG_DISC_TEMP_2  11688 non-null  float64\n",
            " 15  RTU_REFG_SUCT_PRES_1  11688 non-null  float64\n",
            " 16  RTU_REFG_SUCT_PRES_2  11688 non-null  float64\n",
            " 17  RTU_REFG_SUCT_TEMP_1  11688 non-null  float64\n",
            " 18  RTU_REFG_SUCT_TEMP_2  11688 non-null  float64\n",
            " 19  RTU_SA_FAN_WATT       11688 non-null  float64\n",
            " 20  RTU_SA_FLOW           11688 non-null  float64\n",
            " 21  RTU_SA_HUM            11688 non-null  float64\n",
            " 22  RTU_SA_TEMP           11688 non-null  float64\n",
            " 23  RTU_TOT_WATT          11688 non-null  float64\n",
            " 24  ZA_HUM                11688 non-null  float64\n",
            " 25  ZA_TEMP               11688 non-null  float64\n",
            " 26  Target                11688 non-null  int64  \n",
            "dtypes: float64(25), int64(1), object(1)\n",
            "memory usage: 2.4+ MB\n"
          ]
        }
      ],
      "source": [
        "df1.info()"
      ]
    },
    {
      "cell_type": "code",
      "execution_count": null,
      "metadata": {
        "id": "pTnkvFZHMPAF"
      },
      "outputs": [],
      "source": [
        "columstodrop = ['RTU_LA_COND_TEMP','RTU_MA_HUM','RTU_MA_TEMP','RTU_REFG_DISC_TEMP_1','RTU_REFG_SUCT_TEMP_1','RTU_REFG_COND_TEMP_1']\n",
        "#colunas que não há no dado simulado as 'REFG' foram eliminadas pq só o segundo momento será aceito.\n"
      ]
    },
    {
      "cell_type": "code",
      "execution_count": null,
      "metadata": {
        "id": "QyAinHUBMPAH"
      },
      "outputs": [],
      "source": [
        "dados_combinados = pd.concat([df1, df2], ignore_index=True)\n"
      ]
    },
    {
      "cell_type": "code",
      "execution_count": null,
      "metadata": {
        "id": "RfRbrQd9MPAJ"
      },
      "outputs": [],
      "source": [
        "dados_combinados = dados_combinados.drop(columstodrop, axis=1)\n"
      ]
    },
    {
      "cell_type": "code",
      "execution_count": null,
      "metadata": {
        "id": "U2JKz7ATMPAL"
      },
      "outputs": [],
      "source": [
        "dados_combinados['RTU_REFG_DISC_PRES'] = dados_combinados['RTU_REFG_DISC_PRES_1'] + dados_combinados['RTU_REFG_DISC_PRES_2']"
      ]
    },
    {
      "cell_type": "code",
      "execution_count": null,
      "metadata": {
        "id": "60XdjHbTMPAP"
      },
      "outputs": [],
      "source": [
        "dados_combinados['RTU_REFG_SUCT_PRES'] = dados_combinados['RTU_REFG_SUCT_PRES_1'] + dados_combinados['RTU_REFG_SUCT_PRES_2']"
      ]
    },
    {
      "cell_type": "code",
      "execution_count": null,
      "metadata": {
        "id": "VwBOKNGJMPAT"
      },
      "outputs": [],
      "source": [
        "columstodrop2 = ['RTU_REFG_DISC_PRES_1','RTU_REFG_DISC_PRES_2','RTU_REFG_SUCT_PRES_1','RTU_REFG_SUCT_PRES_2']"
      ]
    },
    {
      "cell_type": "code",
      "execution_count": null,
      "metadata": {
        "id": "MOJP9ipeMPAV"
      },
      "outputs": [],
      "source": [
        "dados_combinados = dados_combinados.drop(columstodrop2, axis = 1)"
      ]
    },
    {
      "cell_type": "code",
      "execution_count": null,
      "metadata": {
        "id": "0VON5PBjMPAX"
      },
      "outputs": [],
      "source": [
        "novo_nome_colunas = {\n",
        "    'RTU_REFG_COND_TEMP_2': 'RTU_REFG_COND_TEMP',\n",
        "    'RTU_REFG_DISC_TEMP_2': 'RTU_REFG_DISC_TEMP',\n",
        "    'RTU_REFG_SUCT_TEMP_2':'RTU_REFG_SUCT_TEMP'}"
      ]
    },
    {
      "cell_type": "code",
      "execution_count": null,
      "metadata": {
        "id": "FkmQ93WiMPAY"
      },
      "outputs": [],
      "source": [
        "dados_combinados = dados_combinados.rename(columns=novo_nome_colunas)"
      ]
    },
    {
      "cell_type": "markdown",
      "metadata": {
        "id": "fPVpBU5uKgAt"
      },
      "source": [
        "#### Derivada"
      ]
    },
    {
      "cell_type": "code",
      "execution_count": null,
      "metadata": {
        "id": "SGtNylQpKeds"
      },
      "outputs": [],
      "source": [
        "# Calcular a Derivada da Pressão (N-1) por Minuto\n",
        "\n",
        "# Certifique-se de que as colunas de data/hora estão no formato de data/hora do pandas\n",
        "dados_combinados['Datetime'] = pd.to_datetime(dados_combinados['Datetime'])\n",
        "\n",
        "# Ordene o DataFrame pela coluna 'DataHora' (caso não esteja ordenado)\n",
        "dados_combinados.sort_values(by='Datetime', inplace=True)\n",
        "\n",
        "\n",
        "\n",
        "\n",
        "# Calcule a derivada por minuto para 'RTU_REFG_DISC_PRES'\n",
        "\n",
        "dados_combinados['Derivada_RTU_REFG_DISC_PRES'] = dados_combinados['RTU_REFG_DISC_PRES'].diff() / dados_combinados['Datetime'].diff().dt.total_seconds()\n",
        "\n",
        "# Calcule a derivada por minuto para 'RTU_REFG_SUCT_PRES'\n",
        "\n",
        "dados_combinados['Derivada_RTU_REFG_SUCT_PRES'] = dados_combinados['RTU_REFG_SUCT_PRES'].diff() / dados_combinados['Datetime'].diff().dt.total_seconds()\n",
        "\n"
      ]
    },
    {
      "cell_type": "code",
      "execution_count": null,
      "metadata": {
        "id": "7Xgrfzl9LREw"
      },
      "outputs": [],
      "source": [
        "# Calcular a Média móvel\n",
        "\n",
        "\n",
        "janela_media_movel = 1440   # Janela de um dia (1440 minutos)\n",
        "\n",
        "# Calcule a média móvel da derivada por minuto para 'RTU_REFG_DISC_PRES'\n",
        "\n",
        "dados_combinados['MediaMovel_Derivada_RTU_REFG_DISC_PRES'] = dados_combinados['Derivada_RTU_REFG_DISC_PRES'].rolling(window=janela_media_movel).mean()\n",
        "\n",
        "# Calcule a média móvel da derivada por minuto para 'RTU_REFG_SUCT_PRES'\n",
        "\n",
        "dados_combinados['MediaMovel_Derivada_RTU_REFG_SUCT_PRES'] = dados_combinados['Derivada_RTU_REFG_SUCT_PRES'].rolling(window=janela_media_movel).mean()\n",
        "\n"
      ]
    },
    {
      "cell_type": "code",
      "execution_count": null,
      "metadata": {
        "id": "CJKzCd9pL_nr"
      },
      "outputs": [],
      "source": [
        "# Calcular o Desvio Padrão\n",
        "\n",
        "\n",
        "janela_um_dia = 1440 # Defina a janela de 1 dia (1440 minutos)\n",
        "\n",
        "\n",
        "# Calcule o desvio padrão da derivada por minuto dentro da janela de 1 dia para 'RTU_REFG_DISC_PRES'\n",
        "dados_combinados['DesvioPadrao_Derivada_RTU_REFG_DISC_PRES'] = dados_combinados['Derivada_RTU_REFG_DISC_PRES'].rolling(window=janela_um_dia).std()\n",
        "\n",
        "\n",
        "# Calcule o desvio padrão da derivada por minuto dentro da janela de 1 dia para 'RTU_REFG_SUCT_PRES'\n",
        "\n",
        "dados_combinados['DesvioPadrao_Derivada_RTU_REFG_SUCT_PRES'] = dados_combinados['Derivada_RTU_REFG_SUCT_PRES'].rolling(window=janela_um_dia).std()\n",
        "\n"
      ]
    },
    {
      "cell_type": "code",
      "execution_count": null,
      "metadata": {
        "id": "JCV_uq06MAnW"
      },
      "outputs": [],
      "source": [
        "# Padronizar Manualmente\n",
        "\n",
        "# Calcule o Z-Score para cada minuto usando a média e o desvio padrão das colunas\n",
        "dados_combinados['Z_Score_Derivada_RTU_REFG_SUCT_PRES'] = (dados_combinados['Derivada_RTU_REFG_SUCT_PRES'] - dados_combinados['MediaMovel_Derivada_RTU_REFG_SUCT_PRES']) / dados_combinados['DesvioPadrao_Derivada_RTU_REFG_SUCT_PRES']\n",
        "\n",
        "\n",
        "dados_combinados['Z_Score_Derivada_RTU_REFG_DISC_PRES'] = (dados_combinados['Derivada_RTU_REFG_DISC_PRES'] - dados_combinados['MediaMovel_Derivada_RTU_REFG_DISC_PRES']) / dados_combinados['DesvioPadrao_Derivada_RTU_REFG_DISC_PRES']\n",
        "\n"
      ]
    },
    {
      "cell_type": "code",
      "execution_count": null,
      "metadata": {
        "id": "MKvrztw-OGsL"
      },
      "outputs": [],
      "source": [
        "# eliminar os valores iniciais Nulos  das primeiras 24 hrs\n",
        "\n",
        "dados_combinados = dados_combinados.dropna()"
      ]
    },
    {
      "cell_type": "markdown",
      "metadata": {
        "id": "dpgA4KxGf2Zb"
      },
      "source": [
        "#### dados que serão trabalhados"
      ]
    },
    {
      "cell_type": "code",
      "execution_count": null,
      "metadata": {
        "id": "3ZQAoxJBgvDv"
      },
      "outputs": [],
      "source": [
        "#  matriz features sem derivada\n",
        "\n",
        "X1 = dados_combinados.drop([\"Target\",\"Datetime\", 'Derivada_RTU_REFG_DISC_PRES', 'Derivada_RTU_REFG_SUCT_PRES',\n",
        "    'MediaMovel_Derivada_RTU_REFG_DISC_PRES','MediaMovel_Derivada_RTU_REFG_SUCT_PRES',\n",
        "    'DesvioPadrao_Derivada_RTU_REFG_DISC_PRES','DesvioPadrao_Derivada_RTU_REFG_SUCT_PRES','Z_Score_Derivada_RTU_REFG_SUCT_PRES','Z_Score_Derivada_RTU_REFG_DISC_PRES'], axis =1)\n",
        "y1 = dados_combinados['Target']"
      ]
    },
    {
      "cell_type": "code",
      "execution_count": null,
      "metadata": {
        "id": "roZztMQ5iyoR"
      },
      "outputs": [],
      "source": [
        "# Matriz  com feature derivada Pura\n",
        "\n",
        "X2 = dados_combinados.drop([\"Target\",\"Datetime\", 'RTU_REFG_DISC_PRES', 'RTU_REFG_SUCT_PRES',\n",
        "    'MediaMovel_Derivada_RTU_REFG_DISC_PRES','MediaMovel_Derivada_RTU_REFG_SUCT_PRES',\n",
        "    'DesvioPadrao_Derivada_RTU_REFG_DISC_PRES','DesvioPadrao_Derivada_RTU_REFG_SUCT_PRES','Z_Score_Derivada_RTU_REFG_SUCT_PRES','Z_Score_Derivada_RTU_REFG_DISC_PRES'], axis =1)\n",
        "y2 = dados_combinados['Target']\n"
      ]
    },
    {
      "cell_type": "code",
      "execution_count": null,
      "metadata": {
        "id": "5HiG4EsJi34s"
      },
      "outputs": [],
      "source": [
        "# Matriz com  derivada Média"
      ]
    },
    {
      "cell_type": "code",
      "execution_count": null,
      "metadata": {
        "id": "9Al2Z3KMjPoM"
      },
      "outputs": [],
      "source": [
        "X3 = dados_combinados.drop([\"Target\",\"Datetime\", 'Derivada_RTU_REFG_DISC_PRES', 'Derivada_RTU_REFG_SUCT_PRES','RTU_REFG_DISC_PRES','RTU_REFG_SUCT_PRES',\n",
        "    'DesvioPadrao_Derivada_RTU_REFG_DISC_PRES','DesvioPadrao_Derivada_RTU_REFG_SUCT_PRES','Z_Score_Derivada_RTU_REFG_SUCT_PRES','Z_Score_Derivada_RTU_REFG_DISC_PRES'], axis =1)\n",
        "y3 = dados_combinados['Target']"
      ]
    },
    {
      "cell_type": "code",
      "execution_count": null,
      "metadata": {
        "id": "qWB0GhL3i_eB"
      },
      "outputs": [],
      "source": [
        "# Matriz com  derivada Normalizada\n",
        "\n",
        "X4 = dados_combinados.drop([\"Target\",\"Datetime\",'RTU_REFG_DISC_PRES', 'RTU_REFG_SUCT_PRES',\n",
        "    'Derivada_RTU_REFG_DISC_PRES', 'Derivada_RTU_REFG_SUCT_PRES',\n",
        "    'MediaMovel_Derivada_RTU_REFG_DISC_PRES','MediaMovel_Derivada_RTU_REFG_SUCT_PRES',\n",
        "    'DesvioPadrao_Derivada_RTU_REFG_DISC_PRES','DesvioPadrao_Derivada_RTU_REFG_SUCT_PRES'], axis =1)\n",
        "y4 = dados_combinados['Target']"
      ]
    },
    {
      "cell_type": "markdown",
      "metadata": {
        "id": "w5WRrFqTFBXo"
      },
      "source": [
        "#### Normalização"
      ]
    },
    {
      "cell_type": "code",
      "execution_count": null,
      "metadata": {
        "id": "c7punyCAFBXo"
      },
      "outputs": [],
      "source": [
        "from sklearn.preprocessing import StandardScaler\n",
        "\n",
        "\n",
        "# Crie um objeto StandardScaler\n",
        "scalerR = StandardScaler()\n",
        "\n",
        "# Ajuste e transforme os dados\n",
        "X1 = scalerR.fit_transform(X1)\n",
        "X2 = scalerR.fit_transform(X2)\n",
        "X3 = scalerR.fit_transform(X3)\n",
        "X4 = scalerR.fit_transform(X4)"
      ]
    },
    {
      "cell_type": "markdown",
      "metadata": {
        "id": "gwHE2xGnFBXp"
      },
      "source": [
        "#### Separação treino e teste\n"
      ]
    },
    {
      "cell_type": "code",
      "execution_count": null,
      "metadata": {
        "id": "1byx7QL0FBXq"
      },
      "outputs": [],
      "source": [
        "X_train1, X_test1, y_train1, y_test1 = train_test_split(X1, y1, test_size=0.2, stratify=y1,random_state= 27) # dados sem derivada\n",
        "\n",
        "X_train2, X_test2, y_train2, y_test2 = train_test_split(X2, y2, test_size=0.2, stratify=y2,random_state= 27) # dados com derivada pura\n",
        "\n",
        "X_train3, X_test3, y_train3, y_test3 = train_test_split(X3, y3, test_size=0.2, stratify=y3,random_state= 27) # dados com derivada média\n",
        "\n",
        "X_train4, X_test4, y_train4, y_test4 = train_test_split(X4, y4, test_size=0.2, stratify=y4,random_state= 27) # dados com derivada normalizada\n",
        "\n"
      ]
    },
    {
      "cell_type": "markdown",
      "metadata": {
        "id": "sGkIpuEsMEeT"
      },
      "source": [
        "## Dados Simulados"
      ]
    },
    {
      "cell_type": "markdown",
      "metadata": {
        "id": "PGLKE0CWN49B"
      },
      "source": [
        "### Manipulação dados simuladas"
      ]
    },
    {
      "cell_type": "code",
      "execution_count": null,
      "metadata": {
        "id": "mgQIP11MMJUN"
      },
      "outputs": [],
      "source": [
        "# Dataset dados simulados\n",
        "\n",
        "df20 = pd.read_csv('https://raw.githubusercontent.com/GUIPETAV/Base/main/df20.csv') # falha de subcarga 20%\n",
        "dfbs = pd.read_csv('https://raw.githubusercontent.com/GUIPETAV/Base/main/dfbs.csv') #  sem de falha de subcarga"
      ]
    },
    {
      "cell_type": "code",
      "execution_count": null,
      "metadata": {
        "id": "wjb6okmkMK6H"
      },
      "outputs": [],
      "source": [
        "coluna_a_manter = ['Datetime','RTU_COMP_WATT', 'RTU_OA_HUM', 'RTU_OA_TEMP', 'RTU_RA_HUM',\n",
        "                   'RTU_RA_TEMP', 'RTU_REFG_COND_TEMP', 'RTU_REFG_DISC_TEMP', 'RTU_REFG_SUCT_TEMP',\n",
        "                   'RTU_SA_FAN_WATT', 'RTU_SA_FLOW', 'RTU_SA_HUM', 'RTU_SA_TEMP',\n",
        "                   'RTU_TOT_WATT', 'ZA_HUM', 'ZA_TEMP', 'RTU_REFG_DISC_PRES', 'RTU_REFG_SUCT_PRES']\n",
        "\n",
        "dfsimf = df20[coluna_a_manter].assign(Target = 1) # falha de subcarga\n",
        "\n",
        "dfsimbs = dfbs[coluna_a_manter].assign(Target = 0) #  não falha"
      ]
    },
    {
      "cell_type": "code",
      "execution_count": null,
      "metadata": {
        "colab": {
          "base_uri": "https://localhost:8080/"
        },
        "id": "wGnD3CNCMYE0",
        "outputId": "5933d979-513c-45fe-feef-34691dc12dff"
      },
      "outputs": [
        {
          "name": "stdout",
          "output_type": "stream",
          "text": [
            "<class 'pandas.core.frame.DataFrame'>\n",
            "RangeIndex: 143941 entries, 0 to 143940\n",
            "Data columns (total 19 columns):\n",
            " #   Column              Non-Null Count   Dtype  \n",
            "---  ------              --------------   -----  \n",
            " 0   Datetime            143941 non-null  object \n",
            " 1   RTU_COMP_WATT       143941 non-null  float64\n",
            " 2   RTU_OA_HUM          143941 non-null  float64\n",
            " 3   RTU_OA_TEMP         143941 non-null  float64\n",
            " 4   RTU_RA_HUM          143941 non-null  float64\n",
            " 5   RTU_RA_TEMP         143941 non-null  float64\n",
            " 6   RTU_REFG_COND_TEMP  143941 non-null  float64\n",
            " 7   RTU_REFG_DISC_TEMP  143941 non-null  float64\n",
            " 8   RTU_REFG_SUCT_TEMP  143941 non-null  float64\n",
            " 9   RTU_SA_FAN_WATT     143941 non-null  float64\n",
            " 10  RTU_SA_FLOW         143941 non-null  float64\n",
            " 11  RTU_SA_HUM          143941 non-null  float64\n",
            " 12  RTU_SA_TEMP         143941 non-null  float64\n",
            " 13  RTU_TOT_WATT        143941 non-null  float64\n",
            " 14  ZA_HUM              143941 non-null  float64\n",
            " 15  ZA_TEMP             143941 non-null  float64\n",
            " 16  RTU_REFG_DISC_PRES  143941 non-null  float64\n",
            " 17  RTU_REFG_SUCT_PRES  143941 non-null  float64\n",
            " 18  Target              143941 non-null  int64  \n",
            "dtypes: float64(17), int64(1), object(1)\n",
            "memory usage: 20.9+ MB\n"
          ]
        }
      ],
      "source": [
        "dfsimf.info()"
      ]
    },
    {
      "cell_type": "code",
      "execution_count": null,
      "metadata": {
        "id": "dJAOez1eN6nA"
      },
      "outputs": [],
      "source": [
        "dados_combinadossim = pd.concat([dfsimf, dfsimbs], ignore_index=True)\n"
      ]
    },
    {
      "cell_type": "code",
      "execution_count": null,
      "metadata": {
        "id": "gbvCdj2FNodR"
      },
      "outputs": [],
      "source": [
        "# Copie as colunas originais antes da conversão\n",
        "dados_combinadossim_copy = dados_combinadossim.copy()\n",
        "\n",
        "# Columns to convert - Temperatura\n",
        "temperature_columns_to_convert = ['RTU_OA_TEMP', 'RTU_RA_TEMP', 'RTU_REFG_COND_TEMP', 'RTU_REFG_DISC_TEMP', 'RTU_REFG_SUCT_TEMP', 'RTU_SA_TEMP', 'ZA_TEMP']\n",
        "\n",
        "# Conversion function from Fahrenheit to Celsius\n",
        "def fahrenheit_to_celsius(fahrenheit):\n",
        "    return (fahrenheit - 32) * 5/9\n",
        "\n",
        "# Apply the conversion to the specified temperature columns\n",
        "dados_combinadossim[temperature_columns_to_convert] = dados_combinadossim[temperature_columns_to_convert].apply(fahrenheit_to_celsius)\n",
        "\n",
        "# Columns to convert - Pressão\n",
        "pressure_columns_to_convert = ['RTU_REFG_DISC_PRES', 'RTU_REFG_SUCT_PRES']\n",
        "\n",
        "# Conversion function from Pascal to Bar\n",
        "def pascal_to_bar(pascal):\n",
        "    return pascal * 1e-5\n",
        "\n",
        "# Apply the conversion to the specified pressure columns\n",
        "dados_combinadossim[pressure_columns_to_convert] = dados_combinadossim[pressure_columns_to_convert].apply(pascal_to_bar)\n"
      ]
    },
    {
      "cell_type": "markdown",
      "metadata": {
        "id": "IggFb2f8OrO_"
      },
      "source": [
        "#### Derivada"
      ]
    },
    {
      "cell_type": "code",
      "execution_count": null,
      "metadata": {
        "id": "0D0Mo1uZO9yi"
      },
      "outputs": [],
      "source": [
        "# Calcular a Derivada da Pressão (N-1) por Minuto\n",
        "\n",
        "# Certifique-se de que as colunas de data/hora estão no formato de data/hora do pandas\n",
        "dados_combinadossim['Datetime'] = pd.to_datetime(dados_combinadossim['Datetime'])\n",
        "\n",
        "# Calcule a derivada por minuto para 'RTU_REFG_DISC_PRES'\n",
        "\n",
        "dados_combinadossim['Derivada_RTU_REFG_DISC_PRES'] = dados_combinadossim['RTU_REFG_DISC_PRES'].diff() / dados_combinadossim['Datetime'].diff().dt.total_seconds()\n",
        "\n",
        "# Calcule a derivada por minuto para 'RTU_REFG_SUCT_PRES'\n",
        "\n",
        "dados_combinadossim['Derivada_RTU_REFG_SUCT_PRES'] = dados_combinadossim['RTU_REFG_SUCT_PRES'].diff() / dados_combinadossim['Datetime'].diff().dt.total_seconds()\n",
        "\n"
      ]
    },
    {
      "cell_type": "code",
      "execution_count": null,
      "metadata": {
        "colab": {
          "base_uri": "https://localhost:8080/",
          "height": 791
        },
        "id": "5_9alpunSDBj",
        "outputId": "55520867-1998-4c1a-e680-4629e3aab687"
      },
      "outputs": [
        {
          "data": {
            "text/html": [
              "<div>\n",
              "<style scoped>\n",
              "    .dataframe tbody tr th:only-of-type {\n",
              "        vertical-align: middle;\n",
              "    }\n",
              "\n",
              "    .dataframe tbody tr th {\n",
              "        vertical-align: top;\n",
              "    }\n",
              "\n",
              "    .dataframe thead th {\n",
              "        text-align: right;\n",
              "    }\n",
              "</style>\n",
              "<table border=\"1\" class=\"dataframe\">\n",
              "  <thead>\n",
              "    <tr style=\"text-align: right;\">\n",
              "      <th></th>\n",
              "      <th>Datetime</th>\n",
              "      <th>RTU_COMP_WATT</th>\n",
              "      <th>RTU_OA_HUM</th>\n",
              "      <th>RTU_OA_TEMP</th>\n",
              "      <th>RTU_RA_HUM</th>\n",
              "      <th>RTU_RA_TEMP</th>\n",
              "      <th>RTU_REFG_COND_TEMP</th>\n",
              "      <th>RTU_REFG_DISC_TEMP</th>\n",
              "      <th>RTU_REFG_SUCT_TEMP</th>\n",
              "      <th>RTU_SA_FAN_WATT</th>\n",
              "      <th>...</th>\n",
              "      <th>RTU_SA_HUM</th>\n",
              "      <th>RTU_SA_TEMP</th>\n",
              "      <th>RTU_TOT_WATT</th>\n",
              "      <th>ZA_HUM</th>\n",
              "      <th>ZA_TEMP</th>\n",
              "      <th>RTU_REFG_DISC_PRES</th>\n",
              "      <th>RTU_REFG_SUCT_PRES</th>\n",
              "      <th>Target</th>\n",
              "      <th>Derivada_RTU_REFG_DISC_PRES</th>\n",
              "      <th>Derivada_RTU_REFG_SUCT_PRES</th>\n",
              "    </tr>\n",
              "  </thead>\n",
              "  <tbody>\n",
              "    <tr>\n",
              "      <th>0</th>\n",
              "      <td>2018-07-20 01:00:00</td>\n",
              "      <td>1.991743e+06</td>\n",
              "      <td>58.777990</td>\n",
              "      <td>12.800017</td>\n",
              "      <td>59.538235</td>\n",
              "      <td>23.224394</td>\n",
              "      <td>25.368100</td>\n",
              "      <td>43.078128</td>\n",
              "      <td>12.170469</td>\n",
              "      <td>94.42871</td>\n",
              "      <td>...</td>\n",
              "      <td>100.00000</td>\n",
              "      <td>11.716432</td>\n",
              "      <td>2.086172e+03</td>\n",
              "      <td>59.538235</td>\n",
              "      <td>23.224394</td>\n",
              "      <td>245.68714</td>\n",
              "      <td>144.53843</td>\n",
              "      <td>1</td>\n",
              "      <td>NaN</td>\n",
              "      <td>NaN</td>\n",
              "    </tr>\n",
              "    <tr>\n",
              "      <th>1</th>\n",
              "      <td>2018-07-20 01:01:00</td>\n",
              "      <td>1.982156e+03</td>\n",
              "      <td>58.826126</td>\n",
              "      <td>12.796661</td>\n",
              "      <td>59.586994</td>\n",
              "      <td>23.086641</td>\n",
              "      <td>25.493500</td>\n",
              "      <td>43.305633</td>\n",
              "      <td>12.859436</td>\n",
              "      <td>94.42871</td>\n",
              "      <td>...</td>\n",
              "      <td>100.00000</td>\n",
              "      <td>12.249357</td>\n",
              "      <td>2.076584e+03</td>\n",
              "      <td>59.586994</td>\n",
              "      <td>23.086641</td>\n",
              "      <td>246.55198</td>\n",
              "      <td>146.31510</td>\n",
              "      <td>1</td>\n",
              "      <td>0.014414</td>\n",
              "      <td>0.029611</td>\n",
              "    </tr>\n",
              "    <tr>\n",
              "      <th>2</th>\n",
              "      <td>2018-07-20 01:02:00</td>\n",
              "      <td>1.982326e+03</td>\n",
              "      <td>58.870080</td>\n",
              "      <td>30553.333333</td>\n",
              "      <td>59.631520</td>\n",
              "      <td>22.950075</td>\n",
              "      <td>25.473633</td>\n",
              "      <td>43.042783</td>\n",
              "      <td>12.578674</td>\n",
              "      <td>94.42871</td>\n",
              "      <td>...</td>\n",
              "      <td>100.00000</td>\n",
              "      <td>12.122468</td>\n",
              "      <td>2.076755e+03</td>\n",
              "      <td>59.631520</td>\n",
              "      <td>22.950075</td>\n",
              "      <td>246.42782</td>\n",
              "      <td>146.14588</td>\n",
              "      <td>1</td>\n",
              "      <td>-0.002069</td>\n",
              "      <td>-0.002820</td>\n",
              "    </tr>\n",
              "    <tr>\n",
              "      <th>3</th>\n",
              "      <td>2018-07-20 01:03:00</td>\n",
              "      <td>1.983721e+03</td>\n",
              "      <td>58.909492</td>\n",
              "      <td>12.790008</td>\n",
              "      <td>59.671448</td>\n",
              "      <td>22.814513</td>\n",
              "      <td>25.447811</td>\n",
              "      <td>42.909058</td>\n",
              "      <td>12.373411</td>\n",
              "      <td>94.42871</td>\n",
              "      <td>...</td>\n",
              "      <td>100.00000</td>\n",
              "      <td>11.999847</td>\n",
              "      <td>2.078149e+03</td>\n",
              "      <td>59.671448</td>\n",
              "      <td>22.814513</td>\n",
              "      <td>246.25402</td>\n",
              "      <td>145.82791</td>\n",
              "      <td>1</td>\n",
              "      <td>-0.002897</td>\n",
              "      <td>-0.005300</td>\n",
              "    </tr>\n",
              "    <tr>\n",
              "      <th>4</th>\n",
              "      <td>2018-07-20 01:04:00</td>\n",
              "      <td>1.985772e+03</td>\n",
              "      <td>58.944946</td>\n",
              "      <td>12.786683</td>\n",
              "      <td>59.707363</td>\n",
              "      <td>22.680083</td>\n",
              "      <td>25.418883</td>\n",
              "      <td>42.847139</td>\n",
              "      <td>12.210600</td>\n",
              "      <td>94.42871</td>\n",
              "      <td>...</td>\n",
              "      <td>100.00000</td>\n",
              "      <td>11.879883</td>\n",
              "      <td>2.080201e+06</td>\n",
              "      <td>59.707363</td>\n",
              "      <td>22.680083</td>\n",
              "      <td>246.05374</td>\n",
              "      <td>145.42968</td>\n",
              "      <td>1</td>\n",
              "      <td>-0.003338</td>\n",
              "      <td>-0.006637</td>\n",
              "    </tr>\n",
              "    <tr>\n",
              "      <th>...</th>\n",
              "      <td>...</td>\n",
              "      <td>...</td>\n",
              "      <td>...</td>\n",
              "      <td>...</td>\n",
              "      <td>...</td>\n",
              "      <td>...</td>\n",
              "      <td>...</td>\n",
              "      <td>...</td>\n",
              "      <td>...</td>\n",
              "      <td>...</td>\n",
              "      <td>...</td>\n",
              "      <td>...</td>\n",
              "      <td>...</td>\n",
              "      <td>...</td>\n",
              "      <td>...</td>\n",
              "      <td>...</td>\n",
              "      <td>...</td>\n",
              "      <td>...</td>\n",
              "      <td>...</td>\n",
              "      <td>...</td>\n",
              "      <td>...</td>\n",
              "    </tr>\n",
              "    <tr>\n",
              "      <th>195</th>\n",
              "      <td>2018-07-20 04:15:00</td>\n",
              "      <td>1.032485e+03</td>\n",
              "      <td>53.071247</td>\n",
              "      <td>12.241669</td>\n",
              "      <td>53.758750</td>\n",
              "      <td>21.373900</td>\n",
              "      <td>20.827756</td>\n",
              "      <td>35.711119</td>\n",
              "      <td>11.519194</td>\n",
              "      <td>66.10010</td>\n",
              "      <td>...</td>\n",
              "      <td>98.36654</td>\n",
              "      <td>9.681367</td>\n",
              "      <td>1.098585e+03</td>\n",
              "      <td>53.758750</td>\n",
              "      <td>21.373900</td>\n",
              "      <td>216.09112</td>\n",
              "      <td>142.00056</td>\n",
              "      <td>1</td>\n",
              "      <td>0.000460</td>\n",
              "      <td>-0.000853</td>\n",
              "    </tr>\n",
              "    <tr>\n",
              "      <th>196</th>\n",
              "      <td>2018-07-20 04:16:00</td>\n",
              "      <td>1.032912e+03</td>\n",
              "      <td>52.738125</td>\n",
              "      <td>12.249908</td>\n",
              "      <td>53.421314</td>\n",
              "      <td>21.432919</td>\n",
              "      <td>20.836183</td>\n",
              "      <td>35.776733</td>\n",
              "      <td>11.573850</td>\n",
              "      <td>66.10010</td>\n",
              "      <td>...</td>\n",
              "      <td>98.14599</td>\n",
              "      <td>9.701203</td>\n",
              "      <td>1.099012e+03</td>\n",
              "      <td>53.421314</td>\n",
              "      <td>21.432919</td>\n",
              "      <td>216.13992</td>\n",
              "      <td>142.01481</td>\n",
              "      <td>1</td>\n",
              "      <td>0.000813</td>\n",
              "      <td>0.000238</td>\n",
              "    </tr>\n",
              "    <tr>\n",
              "      <th>197</th>\n",
              "      <td>2018-07-20 04:17:00</td>\n",
              "      <td>1.033215e+03</td>\n",
              "      <td>52.419216</td>\n",
              "      <td>12.258697</td>\n",
              "      <td>53.098274</td>\n",
              "      <td>21.489744</td>\n",
              "      <td>20.845947</td>\n",
              "      <td>35.804719</td>\n",
              "      <td>11.598998</td>\n",
              "      <td>66.10010</td>\n",
              "      <td>...</td>\n",
              "      <td>97.99057</td>\n",
              "      <td>9.714752</td>\n",
              "      <td>1.099315e+03</td>\n",
              "      <td>53.098274</td>\n",
              "      <td>21.489744</td>\n",
              "      <td>216.19764</td>\n",
              "      <td>142.05019</td>\n",
              "      <td>1</td>\n",
              "      <td>0.000962</td>\n",
              "      <td>0.000590</td>\n",
              "    </tr>\n",
              "    <tr>\n",
              "      <th>198</th>\n",
              "      <td>2018-07-20 04:18:00</td>\n",
              "      <td>1.033504e+06</td>\n",
              "      <td>52.114690</td>\n",
              "      <td>12.268006</td>\n",
              "      <td>52.789803</td>\n",
              "      <td>21.544283</td>\n",
              "      <td>20.856478</td>\n",
              "      <td>35.820342</td>\n",
              "      <td>11.613708</td>\n",
              "      <td>66.10010</td>\n",
              "      <td>...</td>\n",
              "      <td>97.86097</td>\n",
              "      <td>9.725829</td>\n",
              "      <td>1.099604e+03</td>\n",
              "      <td>52.789803</td>\n",
              "      <td>21.544283</td>\n",
              "      <td>216.26006</td>\n",
              "      <td>142.09179</td>\n",
              "      <td>1</td>\n",
              "      <td>0.001040</td>\n",
              "      <td>0.000693</td>\n",
              "    </tr>\n",
              "    <tr>\n",
              "      <th>199</th>\n",
              "      <td>2018-07-20 04:19:00</td>\n",
              "      <td>1.033818e+03</td>\n",
              "      <td>51.824116</td>\n",
              "      <td>12.277802</td>\n",
              "      <td>52.495470</td>\n",
              "      <td>21.596587</td>\n",
              "      <td>20.867492</td>\n",
              "      <td>35.832244</td>\n",
              "      <td>11.624542</td>\n",
              "      <td>66.10010</td>\n",
              "      <td>...</td>\n",
              "      <td>97.74353</td>\n",
              "      <td>9.735841</td>\n",
              "      <td>1.099918e+03</td>\n",
              "      <td>52.495470</td>\n",
              "      <td>21.596587</td>\n",
              "      <td>216.32562</td>\n",
              "      <td>142.13452</td>\n",
              "      <td>1</td>\n",
              "      <td>0.001093</td>\n",
              "      <td>0.000712</td>\n",
              "    </tr>\n",
              "  </tbody>\n",
              "</table>\n",
              "<p>200 rows × 21 columns</p>\n",
              "</div>"
            ],
            "text/plain": [
              "               Datetime  RTU_COMP_WATT  RTU_OA_HUM   RTU_OA_TEMP  RTU_RA_HUM  \\\n",
              "0   2018-07-20 01:00:00   1.991743e+06   58.777990     12.800017   59.538235   \n",
              "1   2018-07-20 01:01:00   1.982156e+03   58.826126     12.796661   59.586994   \n",
              "2   2018-07-20 01:02:00   1.982326e+03   58.870080  30553.333333   59.631520   \n",
              "3   2018-07-20 01:03:00   1.983721e+03   58.909492     12.790008   59.671448   \n",
              "4   2018-07-20 01:04:00   1.985772e+03   58.944946     12.786683   59.707363   \n",
              "..                  ...            ...         ...           ...         ...   \n",
              "195 2018-07-20 04:15:00   1.032485e+03   53.071247     12.241669   53.758750   \n",
              "196 2018-07-20 04:16:00   1.032912e+03   52.738125     12.249908   53.421314   \n",
              "197 2018-07-20 04:17:00   1.033215e+03   52.419216     12.258697   53.098274   \n",
              "198 2018-07-20 04:18:00   1.033504e+06   52.114690     12.268006   52.789803   \n",
              "199 2018-07-20 04:19:00   1.033818e+03   51.824116     12.277802   52.495470   \n",
              "\n",
              "     RTU_RA_TEMP  RTU_REFG_COND_TEMP  RTU_REFG_DISC_TEMP  RTU_REFG_SUCT_TEMP  \\\n",
              "0      23.224394           25.368100           43.078128           12.170469   \n",
              "1      23.086641           25.493500           43.305633           12.859436   \n",
              "2      22.950075           25.473633           43.042783           12.578674   \n",
              "3      22.814513           25.447811           42.909058           12.373411   \n",
              "4      22.680083           25.418883           42.847139           12.210600   \n",
              "..           ...                 ...                 ...                 ...   \n",
              "195    21.373900           20.827756           35.711119           11.519194   \n",
              "196    21.432919           20.836183           35.776733           11.573850   \n",
              "197    21.489744           20.845947           35.804719           11.598998   \n",
              "198    21.544283           20.856478           35.820342           11.613708   \n",
              "199    21.596587           20.867492           35.832244           11.624542   \n",
              "\n",
              "     RTU_SA_FAN_WATT  ...  RTU_SA_HUM  RTU_SA_TEMP  RTU_TOT_WATT     ZA_HUM  \\\n",
              "0           94.42871  ...   100.00000    11.716432  2.086172e+03  59.538235   \n",
              "1           94.42871  ...   100.00000    12.249357  2.076584e+03  59.586994   \n",
              "2           94.42871  ...   100.00000    12.122468  2.076755e+03  59.631520   \n",
              "3           94.42871  ...   100.00000    11.999847  2.078149e+03  59.671448   \n",
              "4           94.42871  ...   100.00000    11.879883  2.080201e+06  59.707363   \n",
              "..               ...  ...         ...          ...           ...        ...   \n",
              "195         66.10010  ...    98.36654     9.681367  1.098585e+03  53.758750   \n",
              "196         66.10010  ...    98.14599     9.701203  1.099012e+03  53.421314   \n",
              "197         66.10010  ...    97.99057     9.714752  1.099315e+03  53.098274   \n",
              "198         66.10010  ...    97.86097     9.725829  1.099604e+03  52.789803   \n",
              "199         66.10010  ...    97.74353     9.735841  1.099918e+03  52.495470   \n",
              "\n",
              "       ZA_TEMP  RTU_REFG_DISC_PRES  RTU_REFG_SUCT_PRES  Target  \\\n",
              "0    23.224394           245.68714           144.53843       1   \n",
              "1    23.086641           246.55198           146.31510       1   \n",
              "2    22.950075           246.42782           146.14588       1   \n",
              "3    22.814513           246.25402           145.82791       1   \n",
              "4    22.680083           246.05374           145.42968       1   \n",
              "..         ...                 ...                 ...     ...   \n",
              "195  21.373900           216.09112           142.00056       1   \n",
              "196  21.432919           216.13992           142.01481       1   \n",
              "197  21.489744           216.19764           142.05019       1   \n",
              "198  21.544283           216.26006           142.09179       1   \n",
              "199  21.596587           216.32562           142.13452       1   \n",
              "\n",
              "     Derivada_RTU_REFG_DISC_PRES  Derivada_RTU_REFG_SUCT_PRES  \n",
              "0                            NaN                          NaN  \n",
              "1                       0.014414                     0.029611  \n",
              "2                      -0.002069                    -0.002820  \n",
              "3                      -0.002897                    -0.005300  \n",
              "4                      -0.003338                    -0.006637  \n",
              "..                           ...                          ...  \n",
              "195                     0.000460                    -0.000853  \n",
              "196                     0.000813                     0.000238  \n",
              "197                     0.000962                     0.000590  \n",
              "198                     0.001040                     0.000693  \n",
              "199                     0.001093                     0.000712  \n",
              "\n",
              "[200 rows x 21 columns]"
            ]
          },
          "execution_count": 80,
          "metadata": {},
          "output_type": "execute_result"
        }
      ],
      "source": [
        "dados_combinadossim.head(200)"
      ]
    },
    {
      "cell_type": "code",
      "execution_count": null,
      "metadata": {
        "id": "WXeLWZF2O9yk"
      },
      "outputs": [],
      "source": [
        "# Calcular a Média móvel\n",
        "\n",
        "\n",
        "janela_media_movel = 1440   # Janela de um dia (1440 minutos)\n",
        "\n",
        "# Calcule a média móvel da derivada por minuto para 'RTU_REFG_DISC_PRES'\n",
        "\n",
        "dados_combinadossim['MediaMovel_Derivada_RTU_REFG_DISC_PRES'] = dados_combinadossim['Derivada_RTU_REFG_DISC_PRES'].rolling(window=janela_media_movel).mean()\n",
        "\n",
        "# Calcule a média móvel da derivada por minuto para 'RTU_REFG_SUCT_PRES'\n",
        "\n",
        "dados_combinadossim['MediaMovel_Derivada_RTU_REFG_SUCT_PRES'] = dados_combinadossim['Derivada_RTU_REFG_SUCT_PRES'].rolling(window=janela_media_movel).mean()\n",
        "\n"
      ]
    },
    {
      "cell_type": "code",
      "execution_count": null,
      "metadata": {
        "colab": {
          "base_uri": "https://localhost:8080/"
        },
        "id": "fhpRPOlnRF3I",
        "outputId": "de4cbf96-a466-48e8-e0ba-e99d8fb7aeb7"
      },
      "outputs": [
        {
          "name": "stdout",
          "output_type": "stream",
          "text": [
            "<class 'pandas.core.frame.DataFrame'>\n",
            "RangeIndex: 287882 entries, 0 to 287881\n",
            "Data columns (total 23 columns):\n",
            " #   Column                                  Non-Null Count   Dtype         \n",
            "---  ------                                  --------------   -----         \n",
            " 0   Datetime                                287882 non-null  datetime64[ns]\n",
            " 1   RTU_COMP_WATT                           287882 non-null  float64       \n",
            " 2   RTU_OA_HUM                              287882 non-null  float64       \n",
            " 3   RTU_OA_TEMP                             287882 non-null  float64       \n",
            " 4   RTU_RA_HUM                              287882 non-null  float64       \n",
            " 5   RTU_RA_TEMP                             287882 non-null  float64       \n",
            " 6   RTU_REFG_COND_TEMP                      287882 non-null  float64       \n",
            " 7   RTU_REFG_DISC_TEMP                      287882 non-null  float64       \n",
            " 8   RTU_REFG_SUCT_TEMP                      287882 non-null  float64       \n",
            " 9   RTU_SA_FAN_WATT                         287882 non-null  float64       \n",
            " 10  RTU_SA_FLOW                             287882 non-null  float64       \n",
            " 11  RTU_SA_HUM                              287882 non-null  float64       \n",
            " 12  RTU_SA_TEMP                             287882 non-null  float64       \n",
            " 13  RTU_TOT_WATT                            287882 non-null  float64       \n",
            " 14  ZA_HUM                                  287882 non-null  float64       \n",
            " 15  ZA_TEMP                                 287882 non-null  float64       \n",
            " 16  RTU_REFG_DISC_PRES                      287882 non-null  float64       \n",
            " 17  RTU_REFG_SUCT_PRES                      287882 non-null  float64       \n",
            " 18  Target                                  287882 non-null  int64         \n",
            " 19  Derivada_RTU_REFG_DISC_PRES             287881 non-null  float64       \n",
            " 20  Derivada_RTU_REFG_SUCT_PRES             287881 non-null  float64       \n",
            " 21  MediaMovel_Derivada_RTU_REFG_DISC_PRES  286442 non-null  float64       \n",
            " 22  MediaMovel_Derivada_RTU_REFG_SUCT_PRES  286442 non-null  float64       \n",
            "dtypes: datetime64[ns](1), float64(21), int64(1)\n",
            "memory usage: 50.5 MB\n"
          ]
        }
      ],
      "source": [
        "dados_combinadossim.info()"
      ]
    },
    {
      "cell_type": "code",
      "execution_count": null,
      "metadata": {
        "id": "8aCesvBlO9yl"
      },
      "outputs": [],
      "source": [
        "# Calcular o Desvio Padrão\n",
        "\n",
        "\n",
        "janela_um_dia = 1440 # Defina a janela de 1 dia (1440 minutos)\n",
        "\n",
        "\n",
        "# Calcule o desvio padrão da derivada por minuto dentro da janela de 1 dia para 'RTU_REFG_DISC_PRES'\n",
        "dados_combinadossim['DesvioPadrao_Derivada_RTU_REFG_DISC_PRES'] = dados_combinadossim['Derivada_RTU_REFG_DISC_PRES'].rolling(window=janela_um_dia).std()\n",
        "\n",
        "\n",
        "# Calcule o desvio padrão da derivada por minuto dentro da janela de 1 dia para 'RTU_REFG_SUCT_PRES'\n",
        "\n",
        "dados_combinadossim['DesvioPadrao_Derivada_RTU_REFG_SUCT_PRES'] = dados_combinadossim['Derivada_RTU_REFG_SUCT_PRES'].rolling(window=janela_um_dia).std()\n",
        "\n"
      ]
    },
    {
      "cell_type": "code",
      "execution_count": null,
      "metadata": {
        "id": "aT0aGmByO9yl"
      },
      "outputs": [],
      "source": [
        "# Padronizar Manualmente\n",
        "\n",
        "# Calcule o Z-Score para cada minuto usando a média e o desvio padrão das colunas\n",
        "dados_combinadossim['Z_Score_Derivada_RTU_REFG_SUCT_PRES'] = (dados_combinadossim['Derivada_RTU_REFG_SUCT_PRES'] - dados_combinadossim['MediaMovel_Derivada_RTU_REFG_SUCT_PRES']) / dados_combinadossim['DesvioPadrao_Derivada_RTU_REFG_SUCT_PRES']\n",
        "\n",
        "\n",
        "dados_combinadossim['Z_Score_Derivada_RTU_REFG_DISC_PRES'] = (dados_combinadossim['Derivada_RTU_REFG_DISC_PRES'] - dados_combinadossim['MediaMovel_Derivada_RTU_REFG_DISC_PRES']) / dados_combinadossim['DesvioPadrao_Derivada_RTU_REFG_DISC_PRES']\n",
        "\n"
      ]
    },
    {
      "cell_type": "code",
      "execution_count": null,
      "metadata": {
        "id": "R1Fs5FdcP2BL"
      },
      "outputs": [],
      "source": [
        "# eliminar os valores iniciais Nulos  das primeiras 24 hrs\n",
        "\n",
        "dados_combinadossim = dados_combinadossim.dropna()"
      ]
    },
    {
      "cell_type": "code",
      "execution_count": null,
      "metadata": {
        "colab": {
          "base_uri": "https://localhost:8080/"
        },
        "id": "D4s3egJ4O9ym",
        "outputId": "99b92335-8545-40ca-c0bb-daac477f471d"
      },
      "outputs": [
        {
          "name": "stdout",
          "output_type": "stream",
          "text": [
            "<class 'pandas.core.frame.DataFrame'>\n",
            "Int64Index: 286442 entries, 1440 to 287881\n",
            "Data columns (total 27 columns):\n",
            " #   Column                                    Non-Null Count   Dtype         \n",
            "---  ------                                    --------------   -----         \n",
            " 0   Datetime                                  286442 non-null  datetime64[ns]\n",
            " 1   RTU_COMP_WATT                             286442 non-null  float64       \n",
            " 2   RTU_OA_HUM                                286442 non-null  float64       \n",
            " 3   RTU_OA_TEMP                               286442 non-null  float64       \n",
            " 4   RTU_RA_HUM                                286442 non-null  float64       \n",
            " 5   RTU_RA_TEMP                               286442 non-null  float64       \n",
            " 6   RTU_REFG_COND_TEMP                        286442 non-null  float64       \n",
            " 7   RTU_REFG_DISC_TEMP                        286442 non-null  float64       \n",
            " 8   RTU_REFG_SUCT_TEMP                        286442 non-null  float64       \n",
            " 9   RTU_SA_FAN_WATT                           286442 non-null  float64       \n",
            " 10  RTU_SA_FLOW                               286442 non-null  float64       \n",
            " 11  RTU_SA_HUM                                286442 non-null  float64       \n",
            " 12  RTU_SA_TEMP                               286442 non-null  float64       \n",
            " 13  RTU_TOT_WATT                              286442 non-null  float64       \n",
            " 14  ZA_HUM                                    286442 non-null  float64       \n",
            " 15  ZA_TEMP                                   286442 non-null  float64       \n",
            " 16  RTU_REFG_DISC_PRES                        286442 non-null  float64       \n",
            " 17  RTU_REFG_SUCT_PRES                        286442 non-null  float64       \n",
            " 18  Target                                    286442 non-null  int64         \n",
            " 19  Derivada_RTU_REFG_DISC_PRES               286442 non-null  float64       \n",
            " 20  Derivada_RTU_REFG_SUCT_PRES               286442 non-null  float64       \n",
            " 21  MediaMovel_Derivada_RTU_REFG_DISC_PRES    286442 non-null  float64       \n",
            " 22  MediaMovel_Derivada_RTU_REFG_SUCT_PRES    286442 non-null  float64       \n",
            " 23  DesvioPadrao_Derivada_RTU_REFG_DISC_PRES  286442 non-null  float64       \n",
            " 24  DesvioPadrao_Derivada_RTU_REFG_SUCT_PRES  286442 non-null  float64       \n",
            " 25  Z_Score_Derivada_RTU_REFG_SUCT_PRES       286442 non-null  float64       \n",
            " 26  Z_Score_Derivada_RTU_REFG_DISC_PRES       286442 non-null  float64       \n",
            "dtypes: datetime64[ns](1), float64(25), int64(1)\n",
            "memory usage: 61.2 MB\n"
          ]
        }
      ],
      "source": [
        "dados_combinadossim.info()"
      ]
    },
    {
      "cell_type": "markdown",
      "metadata": {
        "id": "jGsKjuIRO9yo"
      },
      "source": [
        "####dados que serão trabalhados"
      ]
    },
    {
      "cell_type": "code",
      "execution_count": null,
      "metadata": {
        "id": "S87L66sYO9yp"
      },
      "outputs": [],
      "source": [
        "#  matriz features sem derivada\n",
        "\n",
        "X1s= dados_combinadossim.drop([\"Target\",\"Datetime\", 'Derivada_RTU_REFG_DISC_PRES', 'Derivada_RTU_REFG_SUCT_PRES',\n",
        "    'MediaMovel_Derivada_RTU_REFG_DISC_PRES','MediaMovel_Derivada_RTU_REFG_SUCT_PRES',\n",
        "    'DesvioPadrao_Derivada_RTU_REFG_DISC_PRES','DesvioPadrao_Derivada_RTU_REFG_SUCT_PRES','Z_Score_Derivada_RTU_REFG_SUCT_PRES','Z_Score_Derivada_RTU_REFG_DISC_PRES'], axis =1)\n",
        "y1s = dados_combinadossim['Target']"
      ]
    },
    {
      "cell_type": "code",
      "execution_count": null,
      "metadata": {
        "id": "KD_c7WZOO9yp"
      },
      "outputs": [],
      "source": [
        "# Matriz  com feature derivada Pura\n",
        "\n",
        "X2s = dados_combinadossim.drop([\"Target\",\"Datetime\", 'RTU_REFG_DISC_PRES', 'RTU_REFG_SUCT_PRES',\n",
        "    'MediaMovel_Derivada_RTU_REFG_DISC_PRES','MediaMovel_Derivada_RTU_REFG_SUCT_PRES',\n",
        "    'DesvioPadrao_Derivada_RTU_REFG_DISC_PRES','DesvioPadrao_Derivada_RTU_REFG_SUCT_PRES','Z_Score_Derivada_RTU_REFG_SUCT_PRES','Z_Score_Derivada_RTU_REFG_DISC_PRES'], axis =1)\n",
        "y2s = dados_combinadossim['Target']\n"
      ]
    },
    {
      "cell_type": "code",
      "execution_count": null,
      "metadata": {
        "id": "ZaBEydRtO9yq"
      },
      "outputs": [],
      "source": [
        "# Matriz com  derivada Média"
      ]
    },
    {
      "cell_type": "code",
      "execution_count": null,
      "metadata": {
        "id": "3Qelt75MO9yr"
      },
      "outputs": [],
      "source": [
        "X3s= dados_combinadossim.drop([\"Target\",\"Datetime\", 'Derivada_RTU_REFG_DISC_PRES', 'Derivada_RTU_REFG_SUCT_PRES','RTU_REFG_DISC_PRES','RTU_REFG_SUCT_PRES',\n",
        "    'DesvioPadrao_Derivada_RTU_REFG_DISC_PRES','DesvioPadrao_Derivada_RTU_REFG_SUCT_PRES','Z_Score_Derivada_RTU_REFG_SUCT_PRES','Z_Score_Derivada_RTU_REFG_DISC_PRES'], axis =1)\n",
        "y3s = dados_combinadossim['Target']"
      ]
    },
    {
      "cell_type": "code",
      "execution_count": null,
      "metadata": {
        "id": "WGtXPeL3O9ys"
      },
      "outputs": [],
      "source": [
        "# Matriz com  derivada Normalizada\n",
        "\n",
        "X4s = dados_combinadossim.drop([\"Target\",\"Datetime\",'RTU_REFG_DISC_PRES', 'RTU_REFG_SUCT_PRES',\n",
        "    'Derivada_RTU_REFG_DISC_PRES', 'Derivada_RTU_REFG_SUCT_PRES',\n",
        "    'MediaMovel_Derivada_RTU_REFG_DISC_PRES','MediaMovel_Derivada_RTU_REFG_SUCT_PRES',\n",
        "    'DesvioPadrao_Derivada_RTU_REFG_DISC_PRES','DesvioPadrao_Derivada_RTU_REFG_SUCT_PRES'], axis =1)\n",
        "y4s = dados_combinadossim['Target']"
      ]
    },
    {
      "cell_type": "code",
      "execution_count": null,
      "metadata": {
        "id": "dgE-o2CoFBYG"
      },
      "outputs": [],
      "source": [
        "from sklearn.preprocessing import StandardScaler\n",
        "\n",
        "\n",
        "# Crie um objeto StandardScaler\n",
        "scalerS = StandardScaler()\n",
        "\n",
        "# Ajuste e transforme os dados\n",
        "X1s = scalerS.fit_transform(X1s)\n",
        "X2s = scalerS.fit_transform(X2s)\n",
        "X3s = scalerS.fit_transform(X3s)\n",
        "X4s = scalerS.fit_transform(X4s)"
      ]
    },
    {
      "cell_type": "code",
      "execution_count": null,
      "metadata": {
        "id": "ePcvmdvNFBYH"
      },
      "outputs": [],
      "source": [
        "X_train1s, X_test1s, y_train1s, y_test1s = train_test_split(X1s, y1s, test_size=0.2, stratify=y1s,random_state= 27) # dados sem derivada\n",
        "\n",
        "X_train2s, X_test2s, y_train2s, y_test2s = train_test_split(X2s, y2s, test_size=0.2, stratify=y2s,random_state= 27) # dados com derivada pura\n",
        "\n",
        "X_train3s, X_test3s, y_train3s, y_test3s = train_test_split(X3s, y3s, test_size=0.2, stratify=y3s,random_state= 27) # dados com derivada média\n",
        "\n",
        "X_train4s, X_test4s, y_train4s, y_test4s= train_test_split(X4s, y4s, test_size=0.2, stratify=y4s,random_state= 27) # dados com derivada normalizada\n"
      ]
    },
    {
      "cell_type": "markdown",
      "metadata": {
        "id": "1le79hzHlCcn"
      },
      "source": [
        "## Modelo"
      ]
    },
    {
      "cell_type": "code",
      "execution_count": null,
      "metadata": {
        "id": "YcV9_yZIUOC5"
      },
      "outputs": [],
      "source": [
        "from sklearn.ensemble import RandomForestClassifier\n",
        "from sklearn.svm import SVC\n",
        "from sklearn.neighbors import KNeighborsClassifier\n",
        "import numpy as np\n",
        "from statistics import mean\n",
        "from joblib import dump,load\n",
        "from sklearn.model_selection import StratifiedKFold\n",
        "from sklearn.metrics import make_scorer, balanced_accuracy_score\n",
        "from sklearn.model_selection import cross_val_score\n",
        "from sklearn.preprocessing import StandardScaler\n",
        "# Criar os modelos\n",
        "rfs = RandomForestClassifier(random_state=27)\n",
        "svcs = SVC(random_state=27)\n",
        "knns = KNeighborsClassifier(n_neighbors=5)"
      ]
    },
    {
      "cell_type": "code",
      "execution_count": null,
      "metadata": {
        "id": "JGGVHFfiFBYJ"
      },
      "outputs": [],
      "source": [
        "# Modelo Nos dados reais\n",
        "\n",
        "\n",
        "# Itere sobre diferentes seleções de features e rótulos\n",
        "for X, y, label in zip([X_train1, X_train2, X_train3, X_train4], [y_train1, y_train2, y_train3, y_train4], ['Sem_Feature_derivada_R', 'Feature_derivada_pura_R', 'Feature_derivada_Média_R', 'Feature_derivada_Normalizada_R']):\n",
        "\n",
        "\n",
        "    rfs.fit(X, y)\n",
        "\n",
        "#Salve o modelo usando joblib\n",
        "    dump(rfs, f'{label}_model.joblib')\n",
        "\n",
        "\n",
        "\n"
      ]
    },
    {
      "cell_type": "code",
      "execution_count": null,
      "metadata": {
        "id": "gUHTCz-1FBYK"
      },
      "outputs": [],
      "source": [
        "# Modelo Nos dados simulados\n",
        "\n",
        "\n",
        "# Itere sobre diferentes seleções de features e rótulos\n",
        "for X, y, label in zip([X_train1s, X_train2s, X_train3s, X_train4s], [y_train1s, y_train2s, y_train3s, y_train4s], ['Sem_Feature_derivada_S', 'Feature_derivada_pura_S', 'Feature_derivada_Média_S', 'Feature_derivada_Normalizada_S']):\n",
        "\n",
        "\n",
        "    rfs.fit(X, y)\n",
        "\n",
        "    # Salve o modelo usando joblib\n",
        "    dump(rfs, f'{label}_model.joblib')\n",
        "\n"
      ]
    },
    {
      "cell_type": "code",
      "execution_count": null,
      "metadata": {
        "id": "LqkxFHjHFBYL"
      },
      "outputs": [],
      "source": [
        "lista1 = ['RTU_COMP_WATT','RTU_OA_HUM','RTU_OA_TEMP','RTU_RA_HUM','RTU_RA_TEMP','RTU_REFG_COND_TEMP','RTU_REFG_DISC_TEMP','RTU_REFG_SUCT_TEMP',\n",
        "          'RTU_SA_FAN_WATT','RTU_SA_FLOW','RTU_SA_HUM','RTU_SA_TEMP','RTU_TOT_WATT','ZA_HUM','ZA_TEMP','RTU_REFG_DISC_PRES','RTU_REFG_SUCT_PRES']\n",
        "\n",
        "lista2 = ['RTU_COMP_WATT','RTU_OA_HUM','RTU_OA_TEMP','RTU_RA_HUM','RTU_RA_TEMP','RTU_REFG_COND_TEMP','RTU_REFG_DISC_TEMP','RTU_REFG_SUCT_TEMP',\n",
        "          'RTU_SA_FAN_WATT','RTU_SA_FLOW','RTU_SA_HUM','RTU_SA_TEMP','RTU_TOT_WATT','ZA_HUM','ZA_TEMP','Derivada_RTU_REFG_DISC_PRES','Derivada_RTU_REFG_SUCT_PRES']\n",
        "\n",
        "lista3 = ['RTU_COMP_WATT','RTU_OA_HUM','RTU_OA_TEMP','RTU_RA_HUM','RTU_RA_TEMP','RTU_REFG_COND_TEMP','RTU_REFG_DISC_TEMP','RTU_REFG_SUCT_TEMP',\n",
        "          'RTU_SA_FAN_WATT','RTU_SA_FLOW','RTU_SA_HUM','RTU_SA_TEMP','RTU_TOT_WATT','ZA_HUM','ZA_TEMP','MediaMovel_Derivada_RTU_REFG_DISC_PRES','MediaMovel_Derivada_RTU_REFG_SUCT_PRES']\n",
        "\n",
        "lista4 = ['RTU_COMP_WATT','RTU_OA_HUM','RTU_OA_TEMP','RTU_RA_HUM','RTU_RA_TEMP','RTU_REFG_COND_TEMP','RTU_REFG_DISC_TEMP','RTU_REFG_SUCT_TEMP',\n",
        "          'RTU_SA_FAN_WATT','RTU_SA_FLOW','RTU_SA_HUM','RTU_SA_TEMP','RTU_TOT_WATT','ZA_HUM','ZA_TEMP','Z_Score_Derivada_RTU_REFG_SUCT_PRES','Z_Score_Derivada_RTU_REFG_DISC_PRES']\n",
        "\n",
        "target = ['Target']"
      ]
    },
    {
      "cell_type": "code",
      "execution_count": null,
      "metadata": {
        "id": "JU73cCKjFBYL"
      },
      "outputs": [],
      "source": [
        "dfx1 = pd.DataFrame(X1, columns=lista1)\n",
        "dfx1train = pd.DataFrame(X_train1,columns= lista1)\n",
        "dfx1test = pd.DataFrame(X_test1,columns= lista1)\n",
        "dfy1 = pd.DataFrame(y1,columns= target)\n",
        "dfy1train = pd.DataFrame(y_train1,columns= target)\n",
        "dfy1test = pd.DataFrame(y_test1,columns= target)"
      ]
    },
    {
      "cell_type": "code",
      "execution_count": null,
      "metadata": {
        "id": "57Z2lgNfFBYM"
      },
      "outputs": [],
      "source": [
        "dfx1s = pd.DataFrame(X1s, columns=lista1)\n",
        "dfx1trains = pd.DataFrame(X_train1s,columns= lista1)\n",
        "dfx1tests = pd.DataFrame(X_test1s,columns= lista1)\n",
        "dfy1s = pd.DataFrame(y1s,columns= target)\n",
        "dfy1trains = pd.DataFrame(y_train1s,columns= target)\n",
        "dfy1tests = pd.DataFrame(y_test1s,columns= target)"
      ]
    },
    {
      "cell_type": "code",
      "execution_count": null,
      "metadata": {
        "id": "Ob5tH0KrFBYN"
      },
      "outputs": [],
      "source": [
        "dfx2 = pd.DataFrame(X2, columns=lista2)\n",
        "dfx2train = pd.DataFrame(X_train2,columns= lista2)\n",
        "dfx2test = pd.DataFrame(X_test2,columns= lista2)\n",
        "dfy2= pd.DataFrame(y2,columns= target)\n",
        "dfy2train = pd.DataFrame(y_train2,columns= target)\n",
        "dfy2test = pd.DataFrame(y_test2,columns= target)"
      ]
    },
    {
      "cell_type": "code",
      "execution_count": null,
      "metadata": {
        "id": "ONWzCMfuFBYN"
      },
      "outputs": [],
      "source": [
        "dfx2s = pd.DataFrame(X2s, columns=lista2)\n",
        "dfx2trains = pd.DataFrame(X_train2s,columns= lista2)\n",
        "dfx2tests = pd.DataFrame(X_test2s,columns= lista2)\n",
        "dfy2s = pd.DataFrame(y2s,columns= target)\n",
        "dfy2trains = pd.DataFrame(y_train2s,columns= target)\n",
        "dfy2tests = pd.DataFrame(y_test2s,columns= target)"
      ]
    },
    {
      "cell_type": "code",
      "execution_count": null,
      "metadata": {
        "id": "docOUb34FBYO"
      },
      "outputs": [],
      "source": [
        "dfx3 = pd.DataFrame(X3, columns=lista3)\n",
        "dfx3train = pd.DataFrame(X_train3,columns= lista3)\n",
        "dfx3test = pd.DataFrame(X_test3,columns= lista3)\n",
        "dfy3 = pd.DataFrame(y3,columns= target)\n",
        "dfy3train = pd.DataFrame(y_train3,columns= target)\n",
        "dfy3test = pd.DataFrame(y_test3,columns= target)"
      ]
    },
    {
      "cell_type": "code",
      "execution_count": null,
      "metadata": {
        "id": "jiDdIdNrFBYP"
      },
      "outputs": [],
      "source": [
        "dfx3s = pd.DataFrame(X3s, columns=lista3)\n",
        "dfx3trains = pd.DataFrame(X_train3s,columns= lista3)\n",
        "dfx3tests = pd.DataFrame(X_test3s,columns= lista3)\n",
        "dfy3s = pd.DataFrame(y3s,columns= target)\n",
        "dfy3trains = pd.DataFrame(y_train3s,columns= target)\n",
        "dfy3tests = pd.DataFrame(y_test3s,columns= target)"
      ]
    },
    {
      "cell_type": "code",
      "execution_count": null,
      "metadata": {
        "id": "Nywj-tmrFBYP"
      },
      "outputs": [],
      "source": [
        "dfx4 = pd.DataFrame(X4, columns=lista4)\n",
        "dfx4train = pd.DataFrame(X_train4,columns= lista4)\n",
        "dfx4test = pd.DataFrame(X_test4,columns= lista4)\n",
        "dfy4 = pd.DataFrame(y4,columns= target)\n",
        "dfy4train = pd.DataFrame(y_train4,columns= target)\n",
        "dfy4test = pd.DataFrame(y_test4,columns= target)"
      ]
    },
    {
      "cell_type": "code",
      "execution_count": null,
      "metadata": {
        "id": "ynbnc2tTFBYQ"
      },
      "outputs": [],
      "source": [
        "dfx4s = pd.DataFrame(X4s, columns=lista4)\n",
        "dfx4trains = pd.DataFrame(X_train4s,columns= lista4)\n",
        "dfx4tests = pd.DataFrame(X_test4s,columns= lista4)\n",
        "dfy4s = pd.DataFrame(y4s,columns= target)\n",
        "dfy4trains = pd.DataFrame(y_train4s,columns= target)\n",
        "dfy4tests = pd.DataFrame(y_test4s,columns= target)"
      ]
    },
    {
      "cell_type": "code",
      "execution_count": null,
      "metadata": {
        "id": "GBYZ662DFBYQ"
      },
      "outputs": [],
      "source": [
        "lista_dataframes = ['dfx1','dfx1train', 'dfx1test','dfy1','dfy1train','dfy1test',\n",
        "                    'dfx1s','dfx1trains', 'dfx1tests','dfy1s','dfy1trains','dfy1tests',\n",
        "                    'dfx2','dfx2train', 'dfx2test','dfy2','dfy2train','dfy2test',\n",
        "                    'dfx2s','dfx2trains', 'dfx2tests','dfy2s','dfy2trains','dfy2tests',\n",
        "                    'dfx3','dfx3train', 'dfx3test','dfy3','dfy3train','dfy3test',\n",
        "                    'dfx3s','dfx3trains', 'dfx3tests','dfy3s','dfy3trains','dfy3tests',\n",
        "                    'dfx4','dfx4train', 'dfx4test','dfy4','dfy4train','dfy4test',\n",
        "                    'dfx4s','dfx4trains', 'dfx4tests','dfy4s','dfy4trains','dfy4tests',\n",
        "                    ]\n"
      ]
    },
    {
      "cell_type": "code",
      "execution_count": null,
      "metadata": {
        "id": "jZWQUxsNFBYR"
      },
      "outputs": [],
      "source": [
        "# Salvar o DataFrame em um arquivo CSV\n",
        "\n",
        "dfx1.to_csv('x1.csv', index=False)\n",
        "dfx1train.to_csv('x1train.csv', index=False)\n",
        "dfx1test.to_csv('x1test.csv', index=False)\n",
        "dfy1.to_csv('y1.csv', index=False)\n",
        "dfy1train.to_csv('y1train.csv', index=False)\n",
        "dfy1test.to_csv('y1test.csv', index=False)\n",
        "\n",
        "dfx1s.to_csv('x1s.csv', index=False)\n",
        "dfx1trains.to_csv('x1trains.csv', index=False)\n",
        "dfx1tests.to_csv('x1tests.csv', index=False)\n",
        "dfy1s.to_csv('y1s.csv', index=False)\n",
        "dfy1trains.to_csv('y1trains.csv', index=False)\n",
        "dfy1tests.to_csv('y1tests.csv', index=False)\n"
      ]
    },
    {
      "cell_type": "code",
      "execution_count": null,
      "metadata": {
        "id": "Iuew4IuKFBYS"
      },
      "outputs": [],
      "source": [
        "# Salvar o DataFrame em um arquivo CSV\n",
        "\n",
        "dfx2.to_csv('x2.csv', index=False)\n",
        "dfx2train.to_csv('x2train.csv', index=False)\n",
        "dfx2test.to_csv('x2test.csv', index=False)\n",
        "dfy2.to_csv('y2.csv', index=False)\n",
        "dfy2train.to_csv('y2train.csv', index=False)\n",
        "dfy2test.to_csv('y2test.csv', index=False)\n",
        "\n",
        "dfx2s.to_csv('x2s.csv', index=False)\n",
        "dfx2trains.to_csv('x2trains.csv', index=False)\n",
        "dfx2tests.to_csv('x2tests.csv', index=False)\n",
        "dfy2s.to_csv('y2s.csv', index=False)\n",
        "dfy2trains.to_csv('y2trains.csv', index=False)\n",
        "dfy2tests.to_csv('y2tests.csv', index=False)"
      ]
    },
    {
      "cell_type": "code",
      "execution_count": null,
      "metadata": {
        "id": "je367kCbFBYS"
      },
      "outputs": [],
      "source": [
        "# Salvar o DataFrame em um arquivo CSV\n",
        "\n",
        "dfx3.to_csv('x3.csv', index=False)\n",
        "dfx3train.to_csv('x3train.csv', index=False)\n",
        "dfx3test.to_csv('x3test.csv', index=False)\n",
        "dfy3.to_csv('y3.csv', index=False)\n",
        "dfy3train.to_csv('y3train.csv', index=False)\n",
        "dfy3test.to_csv('y3test.csv', index=False)\n",
        "\n",
        "dfx3s.to_csv('x3s.csv', index=False)\n",
        "dfx3trains.to_csv('x3trains.csv', index=False)\n",
        "dfx3tests.to_csv('x3tests.csv', index=False)\n",
        "dfy3s.to_csv('y3s.csv', index=False)\n",
        "dfy3trains.to_csv('y3trains.csv', index=False)\n",
        "dfy3tests.to_csv('y3tests.csv', index=False)"
      ]
    },
    {
      "cell_type": "code",
      "execution_count": null,
      "metadata": {
        "id": "UGzxPPDhFBYT"
      },
      "outputs": [],
      "source": [
        "# Salvar o DataFrame em um arquivo CSV\n",
        "\n",
        "dfx4.to_csv('x4.csv', index=False)\n",
        "dfx4train.to_csv('x4train.csv', index=False)\n",
        "dfx4test.to_csv('x4test.csv', index=False)\n",
        "dfy4.to_csv('y4.csv', index=False)\n",
        "dfy4train.to_csv('y4train.csv', index=False)\n",
        "dfy4test.to_csv('y4test.csv', index=False)\n",
        "\n",
        "dfx4s.to_csv('x4s.csv', index=False)\n",
        "dfx4trains.to_csv('x4trains.csv', index=False)\n",
        "dfx4tests.to_csv('x4tests.csv', index=False)\n",
        "dfy4s.to_csv('y4s.csv', index=False)\n",
        "dfy4trains.to_csv('y4trains.csv', index=False)\n",
        "dfy4tests.to_csv('y4tests.csv', index=False)"
      ]
    }
  ],
  "metadata": {
    "colab": {
      "provenance": []
    },
    "kernelspec": {
      "display_name": "Python 3 (ipykernel)",
      "language": "python",
      "name": "python3"
    },
    "language_info": {
      "codemirror_mode": {
        "name": "ipython",
        "version": 3
      },
      "file_extension": ".py",
      "mimetype": "text/x-python",
      "name": "python",
      "nbconvert_exporter": "python",
      "pygments_lexer": "ipython3",
      "version": "3.10.12"
    }
  },
  "nbformat": 4,
  "nbformat_minor": 0
}